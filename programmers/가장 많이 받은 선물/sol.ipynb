{
 "cells": [
  {
   "cell_type": "code",
   "execution_count": 24,
   "id": "9ec2b8bb-49d0-4de7-b639-f910d89cde7a",
   "metadata": {},
   "outputs": [],
   "source": [
    "def solution(friends, gifts):\n",
    "    answer = 0\n",
    "    def present_score(name, my_gifts):\n",
    "        num = 0\n",
    "        for i in my_gifts:\n",
    "            if (name + \" \") in i:\n",
    "                num = num + 1\n",
    "            elif (\" \" + name) in i:\n",
    "                num = num - 1\n",
    "        return num\n",
    "    presentscore = {}\n",
    "    for i in friends:\n",
    "        presentscore[i] = present_score(i, gifts)\n",
    "    answer = presentscore\n",
    "    return answer\n",
    "\n",
    "# 선물을 받는 개수는 상호간에 선물을 누가 더 많이 줬는지\n",
    "# 선물이 같다면 선물지수를 비교해서\n",
    "# 선물지수까지 같으면 선물을 안준다\n",
    "# 여기까지 해서 개인별로 선물을 받는 숫자를 쌓으면 된다\n",
    "# 선물 지수를 뽑는 것은 간단하다, 문자열에서 첫 둘을 빼면 된다\n",
    "# 서로 선물을 주고 받은 개수를 찾는 것은 "
   ]
  },
  {
   "cell_type": "code",
   "execution_count": 25,
   "id": "b2f5f22c-893d-4a20-a00e-74b699323b04",
   "metadata": {},
   "outputs": [
    {
     "data": {
      "text/plain": [
       "{'muzi': -3, 'ryan': 2, 'frodo': 0, 'neo': 1}"
      ]
     },
     "execution_count": 25,
     "metadata": {},
     "output_type": "execute_result"
    }
   ],
   "source": [
    "solution([\"muzi\", \"ryan\", \"frodo\", \"neo\"], [\"muzi frodo\", \"muzi frodo\", \"ryan muzi\", \"ryan muzi\", \"ryan muzi\", \"frodo muzi\", \"frodo ryan\", \"neo muzi\"])"
   ]
  },
  {
   "cell_type": "code",
   "execution_count": 23,
   "id": "d1adc837-6183-408d-ab4c-5b2770b9999f",
   "metadata": {},
   "outputs": [
    {
     "name": "stdout",
     "output_type": "stream",
     "text": [
      "ryan \n"
     ]
    }
   ],
   "source": [
    "test_name = [\"muzi\", \"ryan\", \"frodo\", \"neo\"]\n",
    "realname = test_name[1] + \" \"\n",
    "print(realname)"
   ]
  },
  {
   "cell_type": "code",
   "execution_count": 57,
   "id": "a03208a3-2f82-4b56-a3c1-ea1c23b3e2c2",
   "metadata": {},
   "outputs": [
    {
     "name": "stdout",
     "output_type": "stream",
     "text": [
      "a\n"
     ]
    }
   ],
   "source": [
    "list = ['a', 'a', 'b', 'b', 'b', 'c', 'c', 'b', 'c', 'c', 'c']\n",
    "list.count('a')\n",
    "print(list[1])"
   ]
  },
  {
   "cell_type": "code",
   "execution_count": 67,
   "id": "59f0eee6-96e3-4843-ab09-06c06ad641b7",
   "metadata": {},
   "outputs": [],
   "source": [
    "def solution(friends, gifts):\n",
    "    answer = 0\n",
    "    def present_score(name, my_gifts):\n",
    "        num = 0\n",
    "        for i in my_gifts:\n",
    "            if (name + \" \") in i:\n",
    "                num = num + 1\n",
    "            elif (\" \" + name) in i:\n",
    "                num = num - 1\n",
    "        return num\n",
    "    presentscore = {}\n",
    "    \n",
    "    for i in friends:\n",
    "        presentscore[i] = present_score(i, gifts)\n",
    "    #선물지수 만들었고, 개인지수 만들기\n",
    "    #무지가 라이언에게 선물을 받을지말지 = muzi ryan > ryan muzi / muzi ryan = ryan muzi and presentscore[muzi]>presentscore[ryan]을 만족하면 선물을 하나 받는거지, 받으면 딕트의 키 값을 한개 플러스한다. 마지막에는 마이맥스로 찾고. 반복을 어떻게 때릴 것인가? 리스트의 한명에게 리스트 전부를 반복하면 된다. 그럼 포 공장을 하나 더 만들어야겠네. 이 공장은 무슨 공장인가, 무지가 선물을 몇개 받을지 결정해주는 공장이다. 리턴값은 무지가 받는 선물 개수이다. 이걸 위해서는 프렌즈목록 기프트목록 바딕\n",
    "    \n",
    "    result = {}\n",
    "    max_num = len(friends)\n",
    "    for x in friends:\n",
    "        num = 0\n",
    "        myscore = 0\n",
    "        while num != max_num:\n",
    "#무지는 frineds[0], 라이언은 friends[1], 프로도는 2 네오는 3\n",
    "#즉 무지라이언은 프렌즈0프렌즈1\n",
    "            if x == friends[num]:\n",
    "                pass\n",
    "            elif gifts.count(x + \" \" + friends[num]) > gifts.count(friends[num] + \" \" + x):\n",
    "                myscore = myscore + 1\n",
    "            elif gifts.count(x + \" \" + friends[num]) == gifts.count(friends[num] + \" \" + x):\n",
    "                if presentscore[x] > presentscore[friends[num]]:\n",
    "                    myscore = myscore + 1\n",
    "            num = num + 1\n",
    "            \n",
    "            result[x] = myscore\n",
    "\n",
    "    list_score = []\n",
    "    for cat in result:\n",
    "        list_score.append(result[cat])\n",
    "    answer = max(list_score)\n",
    "        \n",
    "    return answer"
   ]
  },
  {
   "cell_type": "code",
   "execution_count": 68,
   "id": "8ea350ca-c39b-407b-a4cc-1912f94f7988",
   "metadata": {},
   "outputs": [
    {
     "data": {
      "text/plain": [
       "2"
      ]
     },
     "execution_count": 68,
     "metadata": {},
     "output_type": "execute_result"
    }
   ],
   "source": [
    "solution([\"muzi\", \"ryan\", \"frodo\", \"neo\"], [\"muzi frodo\", \"muzi frodo\", \"ryan muzi\", \"ryan muzi\", \"ryan muzi\", \"frodo muzi\", \"frodo ryan\", \"neo muzi\"])"
   ]
  },
  {
   "cell_type": "code",
   "execution_count": 101,
   "id": "69226eec-bb32-4398-9a2f-a79a0dc5c0ad",
   "metadata": {},
   "outputs": [],
   "source": [
    "def solution(today, terms, privacies):\n",
    "    answer = []\n",
    "    \n",
    "    #가입일자, 경과일, 현재날짜 주면 파기여부 반환해주는 함수\n",
    "    def delete(pri, month, present):\n",
    "        new_pri = pri.split('.')\n",
    "        del_year = int(new_pri[0])\n",
    "        del_month = int(new_pri[1])\n",
    "        del_day = int(new_pri[2])\n",
    "        del_month = del_month + int(month)\n",
    "        while del_month > 12:\n",
    "            del_year = del_year + 1\n",
    "            del_month = del_month - 12\n",
    "        if del_month < 10:\n",
    "            str_month = '0' + str(del_month)\n",
    "        else:\n",
    "            str_month = str(del_month)\n",
    "        if del_day < 10:\n",
    "            str_day = '0' + str(del_day)\n",
    "        else:\n",
    "            str_day = str(del_day)\n",
    "        str_year = str(del_year)\n",
    "        \n",
    "        deldate = str_year + str_month + str_day\n",
    "        deldate = int(deldate)\n",
    "        new_present = present[:4] + present[5:7] + present[8:]\n",
    "        nowdate = int(new_present)\n",
    "        if nowdate >= deldate:\n",
    "            return True\n",
    "        else:\n",
    "            return False\n",
    "    \n",
    "    new_terms = { }\n",
    "    for i in terms:\n",
    "        list = i.split()\n",
    "        new_terms[list[0]] = list[1]\n",
    "    num = 1\n",
    "    for i in privacies:\n",
    "        list2 = i.split()\n",
    "        day = list2[0]\n",
    "        month = int(new_terms[list2[1]])\n",
    "        if delete(day, month, today):\n",
    "            answer.append(num)\n",
    "        num = num + 1\n",
    "        \n",
    "    return answer\n",
    "# 프라이버시의 각 문자열을 포문으로 돌린다.\n",
    "\n",
    "# 텀스 내용을 딕셔너리화 해서 프라이버시의 텀을 개월수로 변환해준다.\n",
    "\n",
    "# 날짜를 계산한다. 일자는 나중에 비교하면 되고, 수집일자를 리스트로 분할한다. 이후 월이 12초과시 12빼고 1년 더하면 된다."
   ]
  },
  {
   "cell_type": "code",
   "execution_count": 102,
   "id": "b1598c30-fd9f-4795-aba5-11683fc7e2dc",
   "metadata": {},
   "outputs": [
    {
     "data": {
      "text/plain": [
       "[1, 3]"
      ]
     },
     "execution_count": 102,
     "metadata": {},
     "output_type": "execute_result"
    }
   ],
   "source": [
    "solution(\"2022.05.19\", [\"A 6\", \"B 12\", \"C 3\"], [\"2021.05.02 A\", \"2021.07.01 B\", \"2022.02.19 C\", \"2022.02.20 C\"])"
   ]
  },
  {
   "cell_type": "code",
   "execution_count": null,
   "id": "3e9acc25-d73b-447d-b533-ecf1cc11f0b2",
   "metadata": {},
   "outputs": [],
   "source": []
  },
  {
   "cell_type": "code",
   "execution_count": null,
   "id": "7d4391cd-87d5-47a0-b8a8-0bcb0ded5279",
   "metadata": {},
   "outputs": [],
   "source": []
  }
 ],
 "metadata": {
  "kernelspec": {
   "display_name": "Python 3 (ipykernel)",
   "language": "python",
   "name": "python3"
  },
  "language_info": {
   "codemirror_mode": {
    "name": "ipython",
    "version": 3
   },
   "file_extension": ".py",
   "mimetype": "text/x-python",
   "name": "python",
   "nbconvert_exporter": "python",
   "pygments_lexer": "ipython3",
   "version": "3.12.4"
  }
 },
 "nbformat": 4,
 "nbformat_minor": 5
}
