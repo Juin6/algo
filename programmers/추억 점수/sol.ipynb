{
 "cells": [
  {
   "cell_type": "code",
   "execution_count": 17,
   "id": "c7c4011a-f816-4709-b264-ebecdeb73274",
   "metadata": {},
   "outputs": [],
   "source": [
    "def solution(name, yearning, photo):\n",
    "    answer = []\n",
    "    def photo_cal(my_name, my_yearning, my_photo):\n",
    "        score = 0\n",
    "        num = 0\n",
    "        for i in my_name:\n",
    "            if i in my_photo:\n",
    "                score = score + my_yearning[num]\n",
    "                num = num + 1\n",
    "        return score\n",
    "        \n",
    "    for aphoto in photo:\n",
    "        aresult = photo_cal(name, yearning, aphoto)\n",
    "        answer.append(aresult)\n",
    "    return answer"
   ]
  },
  {
   "cell_type": "code",
   "execution_count": 18,
   "id": "d9232c8e-3370-4eba-94c7-6d8c341a0ec6",
   "metadata": {},
   "outputs": [
    {
     "data": {
      "text/plain": [
       "[19, 15, 15]"
      ]
     },
     "execution_count": 18,
     "metadata": {},
     "output_type": "execute_result"
    }
   ],
   "source": [
    "solution([\"may\", \"kein\", \"kain\", \"radi\"], [5, 10, 1, 3], [[\"may\", \"kein\", \"kain\", \"radi\"],[\"may\", \"kein\", \"brin\", \"deny\"], [\"kon\", \"kain\", \"may\", \"coni\"]])"
   ]
  },
  {
   "cell_type": "code",
   "execution_count": null,
   "id": "c6632569-bd0a-4c2a-b5db-58b839788fab",
   "metadata": {},
   "outputs": [],
   "source": []
  }
 ],
 "metadata": {
  "kernelspec": {
   "display_name": "Python 3 (ipykernel)",
   "language": "python",
   "name": "python3"
  },
  "language_info": {
   "codemirror_mode": {
    "name": "ipython",
    "version": 3
   },
   "file_extension": ".py",
   "mimetype": "text/x-python",
   "name": "python",
   "nbconvert_exporter": "python",
   "pygments_lexer": "ipython3",
   "version": "3.12.4"
  }
 },
 "nbformat": 4,
 "nbformat_minor": 5
}
